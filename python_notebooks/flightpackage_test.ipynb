{
 "cells": [
  {
   "cell_type": "markdown",
   "metadata": {},
   "source": [
    "Remove back-to-back waypoints"
   ]
  },
  {
   "cell_type": "code",
   "execution_count": 7,
   "metadata": {},
   "outputs": [],
   "source": [
    "class Complete_package(object):\n",
    "    def __init__(self):\n",
    "       self.launch = ''\n",
    "       self.resolution = ''\n",
    "       self.waypoints = []\n",
    "\n",
    "    def add_waypoints(self, *args):\n",
    "        for arg in args:\n",
    "            self.waypoints.append(arg)\n",
    "        return self.waypoints\n",
    "    \n",
    "    def set_launch(self, launch):\n",
    "        self.launch = launch\n",
    "        return self.launch\n",
    "    \n",
    "    def set_resolution(self, resolution):\n",
    "        self.resolution = resolution\n",
    "        return self.resolution\n",
    "    \n",
    "    def return_complete(self):\n",
    "        return self.launch, self.waypoints, self.resolution"
   ]
  },
  {
   "cell_type": "code",
   "execution_count": 8,
   "metadata": {},
   "outputs": [
    {
     "data": {
      "text/plain": [
       "['wpt1', 'wpt2']"
      ]
     },
     "execution_count": 8,
     "metadata": {},
     "output_type": "execute_result"
    }
   ],
   "source": [
    "new_package = Complete_package()\n",
    "new_package.set_launch('Airfield launch')\n",
    "new_package.set_resolution('Strike target')\n",
    "new_package.add_waypoints('wpt1', 'wpt2')"
   ]
  },
  {
   "cell_type": "code",
   "execution_count": 13,
   "metadata": {},
   "outputs": [
    {
     "name": "stdout",
     "output_type": "stream",
     "text": [
      "Mission consists of Airfield launch wpt1, wpt2 Strike target\n"
     ]
    }
   ],
   "source": [
    "def return_summary(summary):\n",
    "    s0 = summary[0]\n",
    "    s1 = ', '.join(['{0}'.format(x) for x in summary[1]])\n",
    "    s2 = summary[2]\n",
    "    \n",
    "    print('Mission consists of {0} {1} {2}'.format(s0, s1, s2))\n",
    "    \n",
    "    \n",
    "summ = new_package.return_complete()\n",
    "return_summary(summ)"
   ]
  }
 ],
 "metadata": {
  "kernelspec": {
   "display_name": "Python 3",
   "language": "python",
   "name": "python3"
  },
  "language_info": {
   "codemirror_mode": {
    "name": "ipython",
    "version": 3
   },
   "file_extension": ".py",
   "mimetype": "text/x-python",
   "name": "python",
   "nbconvert_exporter": "python",
   "pygments_lexer": "ipython3",
   "version": "3.6.8"
  }
 },
 "nbformat": 4,
 "nbformat_minor": 2
}
