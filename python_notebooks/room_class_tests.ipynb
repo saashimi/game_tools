{
 "cells": [
  {
   "cell_type": "markdown",
   "metadata": {},
   "source": [
    "A house has:\n",
    "* 1 kitchen\n",
    "* 1 family room\n",
    "* 1 dining room\n",
    "* 1-4 bedrooms\n",
    "* n-1 bathrooms, where n = number of bedrooms"
   ]
  },
  {
   "cell_type": "code",
   "execution_count": 177,
   "metadata": {},
   "outputs": [],
   "source": [
    "class House(object):\n",
    "    def __init__(self):\n",
    "       self.rooms = []\n",
    "\n",
    "    def add_rooms(self, *args):\n",
    "        for arg in args:\n",
    "            self.rooms.append(arg)\n",
    "        return self.rooms\n",
    "    \n",
    "class room(object):\n",
    "    def __init__(self):\n",
    "        self.furnishings = []\n",
    "        \n",
    "    def get_furnishings():\n",
    "        return self.furnishings\n",
    "    \n",
    "class Bedroom(room):\n",
    "    def __init__(self):\n",
    "        self.type = 'bedroom'\n",
    "        self.furnishings = ['bed', 'bench', 'armchair']\n",
    "    \n",
    "class Kitchen(room):\n",
    "    def __init__(self):    \n",
    "        self.type = 'kitchen'\n",
    "        self.furnishings = ['countertop', 'nook table', 'chair']\n",
    "    \n",
    "class Family_room(room):\n",
    "    def __init__(self):\n",
    "        self.type = 'family room'\n",
    "        self.furnishings = ['couch', 'coffee table']\n",
    "    \n",
    "class Bathroom(room):\n",
    "    def __init__(self):\n",
    "        self.type = 'bathroom'\n",
    "        self.furnishings = ['toilet', 'shower']\n",
    "    \n",
    "class Laundry_room(room):\n",
    "    def __init__(self):\n",
    "        self.type = 'laundry room'\n",
    "        self.furnishings = ['washer', 'dryer']"
   ]
  },
  {
   "cell_type": "code",
   "execution_count": 178,
   "metadata": {},
   "outputs": [
    {
     "data": {
      "text/plain": [
       "[<__main__.Bedroom at 0x2a4b7af2cc0>,\n",
       " <__main__.Kitchen at 0x2a4b7ab7b00>,\n",
       " <__main__.Family_room at 0x2a4b7af2b70>,\n",
       " <__main__.Bathroom at 0x2a4b7af2048>,\n",
       " <__main__.Laundry_room at 0x2a4b7af2e10>]"
      ]
     },
     "execution_count": 178,
     "metadata": {},
     "output_type": "execute_result"
    }
   ],
   "source": [
    "new_house = House()\n",
    "br = Bedroom()\n",
    "kt = Kitchen()\n",
    "fm = Family_room()\n",
    "bt = Bathroom()\n",
    "lr = Laundry_room()\n",
    "\n",
    "new_house.add_rooms(br, kt, fm, bt, lr)"
   ]
  },
  {
   "cell_type": "code",
   "execution_count": 179,
   "metadata": {},
   "outputs": [
    {
     "data": {
      "text/plain": [
       "['bed', 'bench', 'armchair']"
      ]
     },
     "execution_count": 179,
     "metadata": {},
     "output_type": "execute_result"
    }
   ],
   "source": [
    "new_house.rooms[0].type\n",
    "new_house.rooms[0].furnishings"
   ]
  },
  {
   "cell_type": "code",
   "execution_count": 220,
   "metadata": {},
   "outputs": [],
   "source": [
    "import random\n",
    "\n",
    "def gen_k(n):\n",
    "    ages = []\n",
    "    for num in range(1, n+1):\n",
    "        age_gen = random.randrange(8, 22, 1)\n",
    "        ages.append(age_gen)\n",
    "    ages.sort()\n",
    "    return ages\n",
    "\n",
    "def gen_p(input):\n",
    "    if type(input) == list:\n",
    "        base_age = input[-1] + random.randrange(16, 40, 1)\n",
    "    elif type(input) == int:\n",
    "        base_age = input + random.randrange(16, 40, 1)\n",
    "    return base_age\n",
    "\n",
    "def sp_age(age):\n",
    "    calc_age = random.randrange(round(age + age * -.2), round(age + age * .2))\n",
    "    return calc_age"
   ]
  },
  {
   "cell_type": "code",
   "execution_count": 221,
   "metadata": {},
   "outputs": [
    {
     "name": "stdout",
     "output_type": "stream",
     "text": [
      "[16, 21]\n",
      "39\n",
      "73\n",
      "38\n"
     ]
    }
   ],
   "source": [
    "res = gen_k(random.randrange(1, 5, 1))\n",
    "print(res)\n",
    "p_age = gen_p(res)\n",
    "print(p_age)\n",
    "gp_age = gen_p(p_age)\n",
    "print(gp_age)\n",
    "sp_age = sp_age(p_age)\n",
    "print(sp_age)"
   ]
  },
  {
   "cell_type": "code",
   "execution_count": null,
   "metadata": {},
   "outputs": [],
   "source": []
  }
 ],
 "metadata": {
  "kernelspec": {
   "display_name": "Python 3",
   "language": "python",
   "name": "python3"
  },
  "language_info": {
   "codemirror_mode": {
    "name": "ipython",
    "version": 3
   },
   "file_extension": ".py",
   "mimetype": "text/x-python",
   "name": "python",
   "nbconvert_exporter": "python",
   "pygments_lexer": "ipython3",
   "version": "3.6.8"
  }
 },
 "nbformat": 4,
 "nbformat_minor": 2
}
