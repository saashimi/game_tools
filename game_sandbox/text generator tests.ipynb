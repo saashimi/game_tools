{
 "cells": [
  {
   "cell_type": "code",
   "execution_count": 1,
   "metadata": {},
   "outputs": [],
   "source": [
    "actions = {\n",
    "    'normal' : ['places', 'puts'],\n",
    "    'brave'  : None,\n",
    "    'shy'    : None\n",
    "}\n",
    "\n",
    "room_furn = {\n",
    "    'ground'      : ['tatami', 'carpeted floor', 'wooden floor'],\n",
    "    'seating'     : ['couch', 'easy chair', 'sofa'],\n",
    "    'sleeping'    : ['bed']\n",
    "}\n",
    "\n",
    "office_furn = {\n",
    "    'ground'      : ['tatami', 'carpeted floor', 'wooden floor'],\n",
    "    'seating'     : ['couch', 'easy chair', 'sofa'],\n",
    "}"
   ]
  },
  {
   "cell_type": "code",
   "execution_count": 48,
   "metadata": {},
   "outputs": [],
   "source": [
    "from random import sample\n",
    "\n",
    "def enhanced_actions(temperament):  \n",
    "    # add additional actions\n",
    "    if temperament == 'brave':\n",
    "        actions['brave'] = ['smashes', 'breaks'],\n",
    "    \n",
    "    if temperament == 'shy':\n",
    "        actions['shy'] = ['sets']\n",
    "        \n",
    "def action_localizer(roomitems):\n",
    "    furn = next(iter(roomitems.values())) #random first entry\n",
    "    furn = sample(furn, len(furn))\n",
    "    return('on the ' + furn[0])    \n",
    "\n",
    "def action_builder(action, roomitems):\n",
    "    localized = action_localizer(roomitems)\n",
    "    action = sample(action, len(action))\n",
    "    action = action[0]\n",
    "    return '{0} {1}.'.format(action, localized)\n",
    "    # this should be called in the class action function and printed from there."
   ]
  },
  {
   "cell_type": "code",
   "execution_count": 670,
   "metadata": {},
   "outputs": [],
   "source": [
    "from random import randint\n",
    "from random import random\n",
    "\n",
    "def inch_to_imperial(ht_in):\n",
    "    ft = ht_in // 12\n",
    "    in_ = round((ht_in/12 - ft) * 12)\n",
    "    e_sze = round((randint(67, 120)/1000) * ht_in, 1)\n",
    "    return ft, in_, e_sze"
   ]
  },
  {
   "cell_type": "code",
   "execution_count": 721,
   "metadata": {},
   "outputs": [
    {
     "data": {
      "text/plain": [
       "(4, 10, 6.4)"
      ]
     },
     "execution_count": 721,
     "metadata": {},
     "output_type": "execute_result"
    }
   ],
   "source": [
    "inch_to_imperial(randint(56, 64))"
   ]
  },
  {
   "cell_type": "code",
   "execution_count": 40,
   "metadata": {},
   "outputs": [],
   "source": [
    "enhanced_actions(temperament='brave')"
   ]
  },
  {
   "cell_type": "code",
   "execution_count": 41,
   "metadata": {
    "scrolled": false
   },
   "outputs": [
    {
     "data": {
      "text/plain": [
       "{'brave': (['smashes', 'breaks'],), 'normal': ['places', 'puts'], 'shy': None}"
      ]
     },
     "execution_count": 41,
     "metadata": {},
     "output_type": "execute_result"
    }
   ],
   "source": [
    "actions"
   ]
  },
  {
   "cell_type": "code",
   "execution_count": 38,
   "metadata": {
    "scrolled": true
   },
   "outputs": [
    {
     "data": {
      "text/plain": [
       "'puts on the tatami.'"
      ]
     },
     "execution_count": 38,
     "metadata": {},
     "output_type": "execute_result"
    }
   ],
   "source": [
    "action_builder(actions['normal'], room_furn)"
   ]
  },
  {
   "cell_type": "code",
   "execution_count": 253,
   "metadata": {
    "scrolled": false
   },
   "outputs": [
    {
     "ename": "NameError",
     "evalue": "name 'actions' is not defined",
     "output_type": "error",
     "traceback": [
      "\u001b[1;31m---------------------------------------------------------------------------\u001b[0m",
      "\u001b[1;31mNameError\u001b[0m                                 Traceback (most recent call last)",
      "\u001b[1;32m<ipython-input-253-2eb101e34486>\u001b[0m in \u001b[0;36m<module>\u001b[1;34m()\u001b[0m\n\u001b[1;32m----> 1\u001b[1;33m \u001b[1;32mfor\u001b[0m \u001b[0mitem\u001b[0m \u001b[1;32min\u001b[0m \u001b[1;33m[\u001b[0m\u001b[0mactions\u001b[0m\u001b[1;33m,\u001b[0m \u001b[0mroom_furn\u001b[0m\u001b[1;33m,\u001b[0m \u001b[0moffice_furn\u001b[0m\u001b[1;33m]\u001b[0m\u001b[1;33m:\u001b[0m\u001b[1;33m\u001b[0m\u001b[0m\n\u001b[0m\u001b[0;32m      2\u001b[0m     \u001b[0mprint\u001b[0m\u001b[1;33m(\u001b[0m\u001b[0mitem\u001b[0m\u001b[1;33m)\u001b[0m\u001b[1;33m\u001b[0m\u001b[0m\n",
      "\u001b[1;31mNameError\u001b[0m: name 'actions' is not defined"
     ]
    }
   ],
   "source": [
    "for item in [actions, room_furn, office_furn]:\n",
    "    print(item)"
   ]
  },
  {
   "cell_type": "code",
   "execution_count": 261,
   "metadata": {},
   "outputs": [
    {
     "name": "stdout",
     "output_type": "stream",
     "text": [
      "4.666666666666667\n",
      "4.75\n",
      "4.833333333333333\n",
      "4.916666666666667\n",
      "5.0\n",
      "5.083333333333333\n",
      "5.166666666666667\n",
      "5.25\n"
     ]
    }
   ],
   "source": [
    "from random import randint\n",
    "for num in range(56, 64):\n",
    "    print (num/12)"
   ]
  }
 ],
 "metadata": {
  "kernelspec": {
   "display_name": "Python 3",
   "language": "python",
   "name": "python3"
  },
  "language_info": {
   "codemirror_mode": {
    "name": "ipython",
    "version": 3
   },
   "file_extension": ".py",
   "mimetype": "text/x-python",
   "name": "python",
   "nbconvert_exporter": "python",
   "pygments_lexer": "ipython3",
   "version": "3.6.4"
  }
 },
 "nbformat": 4,
 "nbformat_minor": 2
}
