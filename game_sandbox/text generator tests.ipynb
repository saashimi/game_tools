{
 "cells": [
  {
   "cell_type": "code",
   "execution_count": 310,
   "metadata": {},
   "outputs": [],
   "source": [
    "actions = {\n",
    "    'normal' : ['{sn} places the item (normal action 1) {ocn}',\n",
    "              '{sn} places the item (normal action 2) {ocn}'],\n",
    "    'brave'   : None,\n",
    "    'shy'    : None\n",
    "}\n",
    "\n",
    "room_furn = {\n",
    "    'ground'      : ['tatami', 'carpeted floor', 'wooden floor'],\n",
    "    'seating'     : ['couch', 'easy chair', 'sofa'],\n",
    "    'sleeping'    : ['bed']\n",
    "}\n",
    "\n",
    "office_furn = {\n",
    "    'ground'      : ['tatami', 'carpeted floor', 'wooden floor'],\n",
    "    'seating'     : ['couch', 'easy chair', 'sofa'],\n",
    "}"
   ]
  },
  {
   "cell_type": "code",
   "execution_count": 460,
   "metadata": {},
   "outputs": [],
   "source": [
    "from random import sample\n",
    "\n",
    "def enhanced_actions(temperament):  \n",
    "    # add additional actions\n",
    "    if temperament == 'brave':\n",
    "        actions['brave'] = ['{sn} does brave action 1 {ocn}',\n",
    "                            '{sn} does brave action 2 {ocn}']\n",
    "    \n",
    "    if temperament == 'shy':\n",
    "        actions['shy'] = ['{sn} does shy action 1 {ocn}']\n",
    "        \n",
    "def action_localizer(roomitems):\n",
    "    furn = next(iter(roomitems.values())) #random first entry\n",
    "    furn = sample(furn, len(furn))\n",
    "    return('on the ' + furn[0])    \n",
    "\n",
    "def action_builder(action, roomitems):\n",
    "    localized = action_localizer(roomitems)\n",
    "    action = sample(action, len(action))\n",
    "    action = action[0]\n",
    "    return '{0} {1}.'.format(action, localized)\n",
    "    # this should be called in the class action function and printed from there."
   ]
  },
  {
   "cell_type": "code",
   "execution_count": 461,
   "metadata": {},
   "outputs": [],
   "source": [
    "enhanced_actions(temperament='brave')"
   ]
  },
  {
   "cell_type": "code",
   "execution_count": 462,
   "metadata": {
    "scrolled": true
   },
   "outputs": [
    {
     "data": {
      "text/plain": [
       "{'brave': ['{sn} does brave action 1 {ocn}', '{sn} does brave action 2 {ocn}'],\n",
       " 'normal': ['{sn} places the item (normal action 1) {ocn}',\n",
       "  '{sn} places the item (normal action 2) {ocn}'],\n",
       " 'shy': None}"
      ]
     },
     "execution_count": 462,
     "metadata": {},
     "output_type": "execute_result"
    }
   ],
   "source": [
    "actions"
   ]
  },
  {
   "cell_type": "code",
   "execution_count": 463,
   "metadata": {},
   "outputs": [
    {
     "data": {
      "text/plain": [
       "'{sn} places the item (normal action 1) {ocn} on the tatami.'"
      ]
     },
     "execution_count": 463,
     "metadata": {},
     "output_type": "execute_result"
    }
   ],
   "source": [
    "action_builder(actions['normal'], room_furn)"
   ]
  },
  {
   "cell_type": "code",
   "execution_count": 474,
   "metadata": {},
   "outputs": [
    {
     "name": "stdout",
     "output_type": "stream",
     "text": [
      "{'normal': ['{sn} places the item (normal action 1) {ocn}', '{sn} places the item (normal action 2) {ocn}'], 'brave': ['{sn} does brave action 1 {ocn}', '{sn} does brave action 2 {ocn}'], 'shy': None}\n",
      "{'ground': ['tatami', 'carpeted floor', 'wooden floor'], 'seating': ['easy chair', 'couch', 'sofa'], 'sleeping': ['bed']}\n",
      "{'ground': ['tatami', 'carpeted floor', 'wooden floor'], 'seating': ['couch', 'easy chair', 'sofa']}\n"
     ]
    }
   ],
   "source": [
    "for item in [actions, room_furn, office_furn]:\n",
    "    print(item)"
   ]
  }
 ],
 "metadata": {
  "kernelspec": {
   "display_name": "Python 3",
   "language": "python",
   "name": "python3"
  },
  "language_info": {
   "codemirror_mode": {
    "name": "ipython",
    "version": 3
   },
   "file_extension": ".py",
   "mimetype": "text/x-python",
   "name": "python",
   "nbconvert_exporter": "python",
   "pygments_lexer": "ipython3",
   "version": "3.6.4"
  }
 },
 "nbformat": 4,
 "nbformat_minor": 2
}
