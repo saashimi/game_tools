{
 "cells": [
  {
   "cell_type": "code",
   "execution_count": 1,
   "metadata": {},
   "outputs": [],
   "source": [
    "actions = {\n",
    "    'normal' : ['places', 'puts'],\n",
    "    'brave'  : None,\n",
    "    'shy'    : None\n",
    "}\n",
    "\n",
    "room_furn = {\n",
    "    'ground'      : ['tatami', 'carpeted floor', 'wooden floor'],\n",
    "    'seating'     : ['couch', 'easy chair', 'sofa'],\n",
    "    'sleeping'    : ['bed']\n",
    "}\n",
    "\n",
    "office_furn = {\n",
    "    'ground'      : ['tatami', 'carpeted floor', 'wooden floor'],\n",
    "    'seating'     : ['couch', 'easy chair', 'sofa'],\n",
    "}"
   ]
  },
  {
   "cell_type": "code",
   "execution_count": 2,
   "metadata": {},
   "outputs": [],
   "source": [
    "from random import sample\n",
    "\n",
    "def enhanced_actions(temperament):  \n",
    "    # add additional actions\n",
    "    if temperament == 'brave':\n",
    "        actions['brave'] = ['smashes', 'breaks'],\n",
    "    \n",
    "    if temperament == 'shy':\n",
    "        actions['shy'] = ['sets']\n",
    "        \n",
    "def action_localizer(roomitems):\n",
    "    furn = next(iter(roomitems.values())) #random first entry\n",
    "    furn = sample(furn, len(furn))\n",
    "    return('on the ' + furn[0])    \n",
    "\n",
    "def action_builder(action, roomitems):\n",
    "    localized = action_localizer(roomitems)\n",
    "    action = sample(action, len(action))\n",
    "    action = action[0]\n",
    "    return '{0} {1}.'.format(action, localized)\n",
    "    # this should be called in the class action function and printed from there."
   ]
  },
  {
   "cell_type": "code",
   "execution_count": 3,
   "metadata": {},
   "outputs": [],
   "source": [
    "enhanced_actions(temperament='brave')"
   ]
  },
  {
   "cell_type": "code",
   "execution_count": 4,
   "metadata": {
    "scrolled": true
   },
   "outputs": [
    {
     "data": {
      "text/plain": [
       "{'brave': (['smashes', 'breaks'],), 'normal': ['places', 'puts'], 'shy': None}"
      ]
     },
     "execution_count": 4,
     "metadata": {},
     "output_type": "execute_result"
    }
   ],
   "source": [
    "actions"
   ]
  },
  {
   "cell_type": "code",
   "execution_count": 38,
   "metadata": {},
   "outputs": [
    {
     "data": {
      "text/plain": [
       "'puts on the tatami.'"
      ]
     },
     "execution_count": 38,
     "metadata": {},
     "output_type": "execute_result"
    }
   ],
   "source": [
    "action_builder(actions['normal'], room_furn)"
   ]
  },
  {
   "cell_type": "code",
   "execution_count": 15,
   "metadata": {},
   "outputs": [
    {
     "name": "stdout",
     "output_type": "stream",
     "text": [
      "{'normal': ['places', 'puts'], 'brave': (['smashes', 'breaks'],), 'shy': None}\n",
      "{'ground': ['tatami', 'carpeted floor', 'wooden floor'], 'seating': ['couch', 'easy chair', 'sofa'], 'sleeping': ['bed']}\n",
      "{'ground': ['tatami', 'carpeted floor', 'wooden floor'], 'seating': ['couch', 'easy chair', 'sofa']}\n"
     ]
    }
   ],
   "source": [
    "for item in [actions, room_furn, office_furn]:\n",
    "    print(item)"
   ]
  }
 ],
 "metadata": {
  "kernelspec": {
   "display_name": "Python 3",
   "language": "python",
   "name": "python3"
  },
  "language_info": {
   "codemirror_mode": {
    "name": "ipython",
    "version": 3
   },
   "file_extension": ".py",
   "mimetype": "text/x-python",
   "name": "python",
   "nbconvert_exporter": "python",
   "pygments_lexer": "ipython3",
   "version": "3.6.4"
  }
 },
 "nbformat": 4,
 "nbformat_minor": 2
}
