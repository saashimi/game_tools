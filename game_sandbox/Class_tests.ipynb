{
 "cells": [
  {
   "cell_type": "code",
   "execution_count": 262,
   "metadata": {},
   "outputs": [],
   "source": [
    "pnouns_m = {\n",
    "    'e'    : 'he',\n",
    "    'mr'   : 'him',\n",
    "    'p'    : 'his'\n",
    "}\n",
    "\n",
    "pnouns_f = {\n",
    "    'e'   : 'she',\n",
    "    'mr'  : 'her',\n",
    "    'p'   : 'hers'\n",
    "}\n",
    "\n",
    "\n",
    "pilot_actions = {\n",
    "    'flight' : ['{sn} instructs {ocn} to update {ocmr} navigation status',\n",
    "                '{sn} instructs {ocn} to change {ocmr} radio frequencies',\n",
    "                '{sn} asks {ocn} to check if {se} accidentally left anything in the rear compartment'],\n",
    "    'combat' : ['{sn} instructs {ocn} for {ocmr} AA scan',\n",
    "                '{sn} instructs {ocn} for {ocmr} AG scan'\n",
    "                '{sn} issues {ocn} a command for {ocmr} weapons release.'],\n",
    "}\n",
    "\n",
    "NFO_actions = {\n",
    "    'flight' : ['{sn} confirms {ocn} understands Control instructions',\n",
    "                '{sn} updates {ocn} about mission status'],\n",
    "    'combat' : ['{sn} updates {ocn} about ROE status',\n",
    "                '{sn} confirms weapons release with {ocn}']\n",
    "}\n"
   ]
  },
  {
   "cell_type": "code",
   "execution_count": 263,
   "metadata": {},
   "outputs": [],
   "source": [
    "from random import shuffle\n",
    "\n",
    "class AirCrew(object):\n",
    "    \n",
    "    def __init__(self):        \n",
    "        self.crew = {}\n",
    "      \n",
    "    def addCrew(self, *args):\n",
    "        for arg in args:\n",
    "            self.crew[arg.getCallsign()] = arg\n",
    "        return self.crew\n",
    "        \n",
    "    def getCrew(self):\n",
    "        return self.crew\n",
    "    \n",
    "    def crewCommand(self, from_member, to_member, act_type):      \n",
    "        from_member = self.crew[from_member]\n",
    "        to_member = self.crew[to_member]\n",
    "        sn = from_member.getCallsign()\n",
    "        ocn = to_member.getCallsign()\n",
    "        \n",
    "        se = from_member.pnouns['e']\n",
    "        smr = from_member.pnouns['mr']\n",
    "        scp = from_member.pnouns['p']\n",
    "        \n",
    "        oce = to_member.pnouns['e']\n",
    "        ocmr = to_member.pnouns['mr']\n",
    "        ocp = to_member.pnouns['p']\n",
    "        \n",
    "        action = from_member.actions[act_type]\n",
    "        shuffle(action)\n",
    "        action = action[0]\n",
    "        return action.format(sn=sn, ocn=ocn, se=se, smr=smr, scp=scp, oce=oce, ocmr=ocmr, ocp=ocp)\n",
    "        \n",
    "    \n",
    "class Pilot(object):\n",
    "    \n",
    "    def __init__(self, last_name, first_name, role, callsign, actions, pnouns):\n",
    "        self.last_name = last_name\n",
    "        self.first_name = first_name\n",
    "        self.role = role\n",
    "        self.callsign = callsign\n",
    "        self.actions = actions\n",
    "        self.pnouns = pnouns\n",
    "      \n",
    "    def getName(self):\n",
    "        return self.last_name, self.first_name\n",
    "    \n",
    "    def getRole(self):\n",
    "        return self.role\n",
    "    \n",
    "    def getCallsign(self):\n",
    "        return self.callsign\n",
    "    \n",
    "    def getActions(self):\n",
    "        return self.actions\n",
    "               "
   ]
  },
  {
   "cell_type": "code",
   "execution_count": 264,
   "metadata": {},
   "outputs": [],
   "source": [
    "misaki = Pilot('MISAKI', 'Shin', 'pilot', 'Cheezit', pilot_actions, pnouns_m)\n",
    "chang = Pilot('CHANG', 'Kara', 'NFO', 'Flucky', NFO_actions, pnouns_f)"
   ]
  },
  {
   "cell_type": "code",
   "execution_count": 249,
   "metadata": {
    "scrolled": true
   },
   "outputs": [
    {
     "data": {
      "text/plain": [
       "{'Cheezit': <__main__.Pilot at 0x19cd33bf518>,\n",
       " 'Flucky': <__main__.Pilot at 0x19cd33bf438>}"
      ]
     },
     "execution_count": 249,
     "metadata": {},
     "output_type": "execute_result"
    }
   ],
   "source": [
    "banner3 = AirCrew()\n",
    "banner3.addCrew(misaki, chang)"
   ]
  },
  {
   "cell_type": "code",
   "execution_count": 259,
   "metadata": {},
   "outputs": [
    {
     "data": {
      "text/plain": [
       "'Cheezit asks Flucky to check if he accidentally left anything in the rear compartment'"
      ]
     },
     "execution_count": 259,
     "metadata": {},
     "output_type": "execute_result"
    }
   ],
   "source": [
    "banner3.crewCommand('Cheezit', 'Flucky', 'flight')"
   ]
  },
  {
   "cell_type": "code",
   "execution_count": 260,
   "metadata": {},
   "outputs": [
    {
     "data": {
      "text/plain": [
       "'Flucky confirms weapons release with Cheezit'"
      ]
     },
     "execution_count": 260,
     "metadata": {},
     "output_type": "execute_result"
    }
   ],
   "source": [
    "banner3.crewCommand('Flucky', 'Cheezit', 'combat')"
   ]
  }
 ],
 "metadata": {
  "kernelspec": {
   "display_name": "Python 3",
   "language": "python",
   "name": "python3"
  },
  "language_info": {
   "codemirror_mode": {
    "name": "ipython",
    "version": 3
   },
   "file_extension": ".py",
   "mimetype": "text/x-python",
   "name": "python",
   "nbconvert_exporter": "python",
   "pygments_lexer": "ipython3",
   "version": "3.6.4"
  }
 },
 "nbformat": 4,
 "nbformat_minor": 2
}
