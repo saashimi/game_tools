{
 "cells": [
  {
   "cell_type": "code",
   "execution_count": 141,
   "metadata": {},
   "outputs": [],
   "source": [
    "import random\n",
    "\n",
    "class Character(object):\n",
    "    def __init__(self, name, gender, age, job, build, hair_color, eye_color):\n",
    "        self.name = name\n",
    "        self.gender = gender\n",
    "        self.age = age\n",
    "        self.job = job\n",
    "        self.build = build\n",
    "        self.hair_color = hair_color\n",
    "        self.eye_color = eye_color        \n",
    "        \n",
    "    def getAttrs(self):\n",
    "        return vars(self)\n",
    "               "
   ]
  },
  {
   "cell_type": "code",
   "execution_count": 221,
   "metadata": {},
   "outputs": [],
   "source": [
    "gender = ['male', 'female']\n",
    "male_name = ['James', 'John', 'Robert', 'Michael', 'William', 'David', 'Richard', 'Charles', 'Joseph', 'Thomas'] \n",
    "female_name = ['Emma', 'Olivia', 'Ava', 'Sophia', 'Isabella', 'Mia', 'Charlotte', 'Abby', 'Emily', 'Mary']\n",
    "job = ['Squire', 'Chemist', 'Black Mage', 'Time Mage', 'Summoner', 'White Mage',\n",
    "    'Mystic', 'Orator', 'Arithmetician', 'Bard', 'Archer', 'Thief', 'Dragoon', \n",
    "    'Knight', 'Monk', 'Geomancer', 'Samurai', 'Ninja', 'Dancer', 'Dark Knight', \n",
    "    'Mime', 'Onion Knight' ]\n",
    "build = ['small', 'slight', 'tall', 'athletic', 'medium']\n",
    "hair_color = ['light brown', 'brown', 'blonde', 'red', 'chestnut', 'reddish-brown', 'flaxen']\n",
    "eye_color = ['brown', 'blue', 'green']"
   ]
  },
  {
   "cell_type": "code",
   "execution_count": 226,
   "metadata": {},
   "outputs": [
    {
     "data": {
      "text/plain": [
       "{'age': 14,\n",
       " 'build': 'small',\n",
       " 'eye_color': 'green',\n",
       " 'gender': 'female',\n",
       " 'hair_color': 'light brown',\n",
       " 'job': 'Squire',\n",
       " 'name': 'Isabella'}"
      ]
     },
     "execution_count": 226,
     "metadata": {},
     "output_type": "execute_result"
    }
   ],
   "source": [
    "def character_generator(gender, male_name, female_name, job, build, age, hair_color, eye_color):\n",
    "    selection = random.randint(0,1)\n",
    "    if gender[selection] == 'male':\n",
    "        name = male_name[random.randint(0, len(male_name)-1)]\n",
    "    if gender[selection] == 'female':\n",
    "        name = female_name[random.randint(0, len(female_name)-1)]\n",
    "    job = job[random.randint(0, len(job)-1)]\n",
    "    build = build[random.randint(0, len(build)-1)]\n",
    "    age = random.randint(12, 40)\n",
    "    hair_color = hair_color[random.randint(0, len(hair_color)-1)]\n",
    "    eye_color = eye_color[random.randint(0, len(eye_color)-1)]\n",
    "\n",
    "    return Character(name, gender[selection], age, job, build, hair_color, eye_color ) \n",
    "\n",
    "my_char = character_generator(gender, male_name, female_name, job, build, age, hair_color, eye_color)\n",
    "my_char.getAttrs()\n",
    "        "
   ]
  },
  {
   "cell_type": "code",
   "execution_count": 223,
   "metadata": {},
   "outputs": [
    {
     "data": {
      "text/plain": [
       "'Abby'"
      ]
     },
     "execution_count": 223,
     "metadata": {},
     "output_type": "execute_result"
    }
   ],
   "source": [
    "my_char.getAttrs()['name']"
   ]
  }
 ],
 "metadata": {
  "kernelspec": {
   "display_name": "Python 3",
   "language": "python",
   "name": "python3"
  },
  "language_info": {
   "codemirror_mode": {
    "name": "ipython",
    "version": 3
   },
   "file_extension": ".py",
   "mimetype": "text/x-python",
   "name": "python",
   "nbconvert_exporter": "python",
   "pygments_lexer": "ipython3",
   "version": "3.6.4"
  }
 },
 "nbformat": 4,
 "nbformat_minor": 2
}
