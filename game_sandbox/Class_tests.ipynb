{
 "cells": [
  {
   "cell_type": "code",
   "execution_count": 1,
   "metadata": {},
   "outputs": [],
   "source": [
    "pnouns_m = {\n",
    "    'e'    : 'he',\n",
    "    'mr'   : 'him',\n",
    "    'p'    : 'his'\n",
    "}\n",
    "\n",
    "pnouns_f = {\n",
    "    'e'   : 'she',\n",
    "    'mr'  : 'her',\n",
    "    'p'   : 'her'\n",
    "}\n",
    "\n",
    "\n",
    "pilot_actions = {\n",
    "    'flight' : ['{sn} instructs {ocn} to update {ocp} navigation status',\n",
    "                '{sn} instructs {ocn} to change {ocp} radio frequencies',\n",
    "                '{sn} asks {ocn} to check if {se} accidentally left anything in the rear compartment'],\n",
    "    'combat' : ['{sn} instructs {ocn} for {ocp} AA scan',\n",
    "                '{sn} instructs {ocn} for {ocp} AG scan',\n",
    "                '{sn} issues {ocn} a command for {ocmr} weapons release.'],\n",
    "}\n",
    "\n",
    "NFO_actions = {\n",
    "    'flight' : ['{sn} confirms {ocn} understands Control instructions',\n",
    "                '{sn} updates {ocn} about mission status'],\n",
    "    'combat' : ['{sn} updates {ocn} about ROE status',\n",
    "                '{sn} confirms weapons release with {ocn}']\n",
    "}\n"
   ]
  },
  {
   "cell_type": "code",
   "execution_count": 2,
   "metadata": {},
   "outputs": [],
   "source": [
    "from random import shuffle\n",
    "\n",
    "class AirCrew(object):\n",
    "    \n",
    "    def __init__(self):        \n",
    "        self.crew = {}\n",
    "      \n",
    "    def addCrew(self, *args):\n",
    "        for arg in args:\n",
    "            self.crew[arg.getCallsign()] = arg\n",
    "        return self.crew\n",
    "        \n",
    "    def getCrew(self):\n",
    "        return self.crew\n",
    "    \n",
    "    def crewCommand(self, from_member, to_member, act_type):  \n",
    "        # For 1v1 interactions.\n",
    "        from_member = self.crew[from_member]\n",
    "        to_member = self.crew[to_member]\n",
    "        sn = from_member.getCallsign()\n",
    "        ocn = to_member.getCallsign()\n",
    "        \n",
    "        se = from_member.pnouns['e']\n",
    "        smr = from_member.pnouns['mr']\n",
    "        scp = from_member.pnouns['p']\n",
    "        \n",
    "        oce = to_member.pnouns['e']\n",
    "        ocmr = to_member.pnouns['mr']\n",
    "        ocp = to_member.pnouns['p']\n",
    "        \n",
    "        action = from_member.actions[act_type]\n",
    "        shuffle(action)\n",
    "        action = action[0]\n",
    "        return action.format(sn=sn, ocn=ocn, se=se, smr=smr, scp=scp, oce=oce, ocmr=ocmr, ocp=ocp)\n",
    "        \n",
    "    \n",
    "class Pilot(object):\n",
    "    \n",
    "    def __init__(self, last_name, first_name, role, callsign, actions, pnouns):\n",
    "        self.last_name = last_name\n",
    "        self.first_name = first_name\n",
    "        self.role = role\n",
    "        self.callsign = callsign\n",
    "        self.actions = actions\n",
    "        self.pnouns = pnouns\n",
    "      \n",
    "    def getName(self):\n",
    "        return self.last_name, self.first_name\n",
    "    \n",
    "    def getRole(self):\n",
    "        return self.role\n",
    "    \n",
    "    def getCallsign(self):\n",
    "        return self.callsign\n",
    "    \n",
    "    def getActions(self):\n",
    "        return self.actions\n",
    "               "
   ]
  },
  {
   "cell_type": "code",
   "execution_count": 3,
   "metadata": {},
   "outputs": [],
   "source": [
    "misaki = Pilot('MISAKI', 'Shin', 'pilot', 'Cheezit', pilot_actions, pnouns_m)\n",
    "chang = Pilot('CHANG', 'Kara', 'NFO', 'Flucky', NFO_actions, pnouns_f)"
   ]
  },
  {
   "cell_type": "code",
   "execution_count": 4,
   "metadata": {
    "scrolled": true
   },
   "outputs": [
    {
     "data": {
      "text/plain": [
       "{'Cheezit': <__main__.Pilot at 0x27f0bc6a908>,\n",
       " 'Flucky': <__main__.Pilot at 0x27f0bc6a9e8>}"
      ]
     },
     "execution_count": 4,
     "metadata": {},
     "output_type": "execute_result"
    }
   ],
   "source": [
    "banner3 = AirCrew()\n",
    "banner3.addCrew(misaki, chang)"
   ]
  },
  {
   "cell_type": "code",
   "execution_count": 5,
   "metadata": {},
   "outputs": [
    {
     "data": {
      "text/plain": [
       "'Cheezit instructs Flucky to change her radio frequencies'"
      ]
     },
     "execution_count": 5,
     "metadata": {},
     "output_type": "execute_result"
    }
   ],
   "source": [
    "banner3.crewCommand('Cheezit', 'Flucky', 'flight')"
   ]
  },
  {
   "cell_type": "code",
   "execution_count": 6,
   "metadata": {},
   "outputs": [
    {
     "data": {
      "text/plain": [
       "'Flucky updates Cheezit about ROE status'"
      ]
     },
     "execution_count": 6,
     "metadata": {},
     "output_type": "execute_result"
    }
   ],
   "source": [
    "banner3.crewCommand('Flucky', 'Cheezit', 'combat')"
   ]
  },
  {
   "cell_type": "code",
   "execution_count": 7,
   "metadata": {},
   "outputs": [],
   "source": [
    "lillehammer = Pilot('LILLEHAMMER', 'Kiki', 'NFO', 'B-Roll', NFO_actions, pnouns_f)"
   ]
  },
  {
   "cell_type": "code",
   "execution_count": 8,
   "metadata": {},
   "outputs": [
    {
     "data": {
      "text/plain": [
       "{'B-Roll': <__main__.Pilot at 0x27f0bc6ad68>,\n",
       " 'Cheezit': <__main__.Pilot at 0x27f0bc6a908>,\n",
       " 'Flucky': <__main__.Pilot at 0x27f0bc6a9e8>}"
      ]
     },
     "execution_count": 8,
     "metadata": {},
     "output_type": "execute_result"
    }
   ],
   "source": [
    "banner3.addCrew(lillehammer)"
   ]
  },
  {
   "cell_type": "code",
   "execution_count": 9,
   "metadata": {},
   "outputs": [],
   "source": [
    "zalman = Pilot('ZALMAN', 'Andy', 'NFO', 'Punrun', NFO_actions, pnouns_m)"
   ]
  },
  {
   "cell_type": "code",
   "execution_count": 10,
   "metadata": {
    "scrolled": true
   },
   "outputs": [
    {
     "data": {
      "text/plain": [
       "{'B-Roll': <__main__.Pilot at 0x27f0bc6ad68>,\n",
       " 'Cheezit': <__main__.Pilot at 0x27f0bc6a908>,\n",
       " 'Flucky': <__main__.Pilot at 0x27f0bc6a9e8>,\n",
       " 'Punrun': <__main__.Pilot at 0x27f0bc6aef0>}"
      ]
     },
     "execution_count": 10,
     "metadata": {},
     "output_type": "execute_result"
    }
   ],
   "source": [
    "banner3.addCrew(zalman)"
   ]
  },
  {
   "cell_type": "code",
   "execution_count": 11,
   "metadata": {},
   "outputs": [
    {
     "data": {
      "text/plain": [
       "'Cheezit instructs Punrun to update his navigation status'"
      ]
     },
     "execution_count": 11,
     "metadata": {},
     "output_type": "execute_result"
    }
   ],
   "source": [
    "banner3.crewCommand('Cheezit', 'Punrun', 'flight')"
   ]
  },
  {
   "cell_type": "code",
   "execution_count": 17,
   "metadata": {},
   "outputs": [
    {
     "data": {
      "text/plain": [
       "'Cheezit instructs Flucky for her AA scan'"
      ]
     },
     "execution_count": 17,
     "metadata": {},
     "output_type": "execute_result"
    }
   ],
   "source": [
    "banner3.crewCommand('Cheezit', 'Flucky', 'combat')"
   ]
  }
 ],
 "metadata": {
  "kernelspec": {
   "display_name": "Python 3",
   "language": "python",
   "name": "python3"
  },
  "language_info": {
   "codemirror_mode": {
    "name": "ipython",
    "version": 3
   },
   "file_extension": ".py",
   "mimetype": "text/x-python",
   "name": "python",
   "nbconvert_exporter": "python",
   "pygments_lexer": "ipython3",
   "version": "3.6.4"
  }
 },
 "nbformat": 4,
 "nbformat_minor": 2
}
