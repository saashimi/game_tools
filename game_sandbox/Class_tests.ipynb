{
 "cells": [
  {
   "cell_type": "code",
   "execution_count": 93,
   "metadata": {},
   "outputs": [],
   "source": [
    "class AirCrew(object):\n",
    "    \n",
    "    def __init__(self, *args):        \n",
    "        self.crew = []\n",
    "        for arg in args:\n",
    "            self.crew.append(arg)\n",
    "    \n",
    "    def getCrew(self):\n",
    "        return [member.getName() for member in self.crew]\n",
    "    \n",
    "    def addCrew(member):\n",
    "        crew.append(member)\n",
    "        \n",
    "    \n",
    "    \n",
    "class Pilot(object):\n",
    "    \n",
    "    def __init__(self, last_name, first_name, role, callsign):\n",
    "        self.last_name = last_name\n",
    "        self.first_name = first_name\n",
    "        self.role = role\n",
    "        self.callsign = callsign\n",
    "    \n",
    "    def getName(self):\n",
    "        return self.last_name, self.first_name\n",
    "    \n",
    "    def getRole(self):\n",
    "        return self.role\n",
    "    \n",
    "    def getCallsign(self):\n",
    "        return self.callsign\n",
    "               "
   ]
  },
  {
   "cell_type": "code",
   "execution_count": 94,
   "metadata": {},
   "outputs": [],
   "source": [
    "misaki = Pilot('MISAKI', 'Shin', 'pilot', 'Cheezit')\n",
    "chang = Pilot('CHANG', 'Kara', 'NFO', 'Flucky')"
   ]
  },
  {
   "cell_type": "code",
   "execution_count": 95,
   "metadata": {},
   "outputs": [
    {
     "data": {
      "text/plain": [
       "[('MISAKI', 'Shin'), ('CHANG', 'Kara')]"
      ]
     },
     "execution_count": 95,
     "metadata": {},
     "output_type": "execute_result"
    }
   ],
   "source": [
    "superhornet = AirCrew(misaki, chang)\n",
    "superhornet.getCrew()"
   ]
  }
 ],
 "metadata": {
  "kernelspec": {
   "display_name": "Python 3",
   "language": "python",
   "name": "python3"
  },
  "language_info": {
   "codemirror_mode": {
    "name": "ipython",
    "version": 3
   },
   "file_extension": ".py",
   "mimetype": "text/x-python",
   "name": "python",
   "nbconvert_exporter": "python",
   "pygments_lexer": "ipython3",
   "version": "3.6.1"
  }
 },
 "nbformat": 4,
 "nbformat_minor": 2
}
