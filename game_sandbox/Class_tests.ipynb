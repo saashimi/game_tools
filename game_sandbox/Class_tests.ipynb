{
 "cells": [
  {
   "cell_type": "code",
   "execution_count": 74,
   "metadata": {},
   "outputs": [],
   "source": [
    "pilot_actions = {\n",
    "    'flight' : ['ask {oc} to update {pn} navigation status',\n",
    "                'ask {oc} to change radio frequencies'],\n",
    "    'combat' : ['ask {oc} for AA scan',\n",
    "                'ask {oc} for AG scan'\n",
    "                'issue command for {oc} weapons release.'],\n",
    "}\n",
    "\n",
    "NFO_actions = {\n",
    "    'flight' : ['confirm {oc} understands Control instructions',\n",
    "                'ask {oc} about mission status'],\n",
    "    'combat' : ['ask {oc} about ROE status',\n",
    "                'confirm weapons release with {oc}']\n",
    "}\n"
   ]
  },
  {
   "cell_type": "code",
   "execution_count": 91,
   "metadata": {},
   "outputs": [],
   "source": [
    "from random import shuffle\n",
    "\n",
    "class AirCrew(object):\n",
    "    \n",
    "    def __init__(self):        \n",
    "        self.crew = {}\n",
    "      \n",
    "    def addCrew(self, *args):\n",
    "        for arg in args:\n",
    "            self.crew[arg.getCallsign()] = arg\n",
    "        return self.crew\n",
    "        \n",
    "    def getCrew(self):\n",
    "        return self.crew\n",
    "    \n",
    "    def crewCommand(self, from_member, to_member, act_type):\n",
    "        from_member = self.crew[from_member]\n",
    "        to_member = self.crew[to_member]\n",
    "        action =  from_member.actions[act_type]\n",
    "        shuffle(action)\n",
    "        return action[0]\n",
    "        \n",
    "    \n",
    "class Pilot(object):\n",
    "    \n",
    "    def __init__(self, last_name, first_name, role, callsign, actions):\n",
    "        self.last_name = last_name\n",
    "        self.first_name = first_name\n",
    "        self.role = role\n",
    "        self.callsign = callsign\n",
    "        self.actions = actions\n",
    "      \n",
    "    def getName(self):\n",
    "        return self.last_name, self.first_name\n",
    "    \n",
    "    def getRole(self):\n",
    "        return self.role\n",
    "    \n",
    "    def getCallsign(self):\n",
    "        return self.callsign\n",
    "    \n",
    "    def getActions(self):\n",
    "        return self.actions\n",
    "               "
   ]
  },
  {
   "cell_type": "code",
   "execution_count": 92,
   "metadata": {},
   "outputs": [],
   "source": [
    "misaki = Pilot('MISAKI', 'Shin', 'pilot', 'Cheezit', pilot_actions)\n",
    "chang = Pilot('CHANG', 'Kara', 'NFO', 'Flucky', NFO_actions)"
   ]
  },
  {
   "cell_type": "code",
   "execution_count": 93,
   "metadata": {
    "scrolled": true
   },
   "outputs": [
    {
     "data": {
      "text/plain": [
       "{'Cheezit': <__main__.Pilot at 0x19cd338be48>,\n",
       " 'Flucky': <__main__.Pilot at 0x19cd338b7f0>}"
      ]
     },
     "execution_count": 93,
     "metadata": {},
     "output_type": "execute_result"
    }
   ],
   "source": [
    "banner3 = AirCrew()\n",
    "banner3.addCrew(misaki, chang)"
   ]
  },
  {
   "cell_type": "code",
   "execution_count": 94,
   "metadata": {},
   "outputs": [
    {
     "data": {
      "text/plain": [
       "'ask {oc} to update {pn} navigation status'"
      ]
     },
     "execution_count": 94,
     "metadata": {},
     "output_type": "execute_result"
    }
   ],
   "source": [
    "banner3.crewCommand('Cheezit', 'Flucky', 'flight')"
   ]
  }
 ],
 "metadata": {
  "kernelspec": {
   "display_name": "Python 3",
   "language": "python",
   "name": "python3"
  },
  "language_info": {
   "codemirror_mode": {
    "name": "ipython",
    "version": 3
   },
   "file_extension": ".py",
   "mimetype": "text/x-python",
   "name": "python",
   "nbconvert_exporter": "python",
   "pygments_lexer": "ipython3",
   "version": "3.6.4"
  }
 },
 "nbformat": 4,
 "nbformat_minor": 2
}
