{
 "cells": [
  {
   "cell_type": "code",
   "execution_count": 22,
   "metadata": {},
   "outputs": [],
   "source": [
    "pilot_actions = {\n",
    "    'flight' : ['ask {oc} to update {pn} navigation status',\n",
    "                'ask {oc} to change radio frequencies'],\n",
    "    'combat' : ['ask {oc} for AA scan',\n",
    "                'ask {oc} for AG scan'\n",
    "                'issue command for {oc} weapons release.'],\n",
    "}\n",
    "\n",
    "NFO_actions = {\n",
    "    'flight' : ['confirm {oc} understands Control instructions',\n",
    "                'ask {oc} about mission status'],\n",
    "    'combat' : ['ask {oc} about ROE status',\n",
    "                'confirm weapons release with {oc}']\n",
    "}\n"
   ]
  },
  {
   "cell_type": "code",
   "execution_count": 47,
   "metadata": {},
   "outputs": [],
   "source": [
    "class AirCrew(object):\n",
    "    \n",
    "    def __init__(self):        \n",
    "        self.crew = {}\n",
    "      \n",
    "    def addCrew(self, *args):\n",
    "        for arg in args:\n",
    "            cre[arg.getCallsign()] = arg\n",
    "        return crew\n",
    "        \n",
    "    def getCrew(self):\n",
    "        return [member.getName() for member in self.crew]\n",
    "    \n",
    "    def crewCommand(self, from_member, to_member):\n",
    "        pass\n",
    "            \n",
    "    \n",
    "    \n",
    "class Pilot(object):\n",
    "    \n",
    "    def __init__(self, last_name, first_name, role, callsign, actions):\n",
    "        self.last_name = last_name\n",
    "        self.first_name = first_name\n",
    "        self.role = role\n",
    "        self.callsign = callsign\n",
    "        self.actions = actions\n",
    "      \n",
    "    def getName(self):\n",
    "        return self.last_name, self.first_name\n",
    "    \n",
    "    def getRole(self):\n",
    "        return self.role\n",
    "    \n",
    "    def getCallsign(self):\n",
    "        return self.callsign\n",
    "    \n",
    "    def getActions(self):\n",
    "        return self.actions\n",
    "               "
   ]
  },
  {
   "cell_type": "code",
   "execution_count": 48,
   "metadata": {},
   "outputs": [],
   "source": [
    "misaki = Pilot('MISAKI', 'Shin', 'pilot', 'Cheezit', pilot_actions)\n",
    "chang = Pilot('CHANG', 'Kara', 'NFO', 'Flucky', NFO_actions)"
   ]
  },
  {
   "cell_type": "code",
   "execution_count": 49,
   "metadata": {
    "scrolled": true
   },
   "outputs": [
    {
     "ename": "TypeError",
     "evalue": "'Pilot' object does not support item assignment",
     "output_type": "error",
     "traceback": [
      "\u001b[1;31m---------------------------------------------------------------------------\u001b[0m",
      "\u001b[1;31mTypeError\u001b[0m                                 Traceback (most recent call last)",
      "\u001b[1;32m<ipython-input-49-191daa465984>\u001b[0m in \u001b[0;36m<module>\u001b[1;34m()\u001b[0m\n\u001b[0;32m      1\u001b[0m \u001b[0mbanner3\u001b[0m \u001b[1;33m=\u001b[0m \u001b[0mAirCrew\u001b[0m\u001b[1;33m(\u001b[0m\u001b[1;33m)\u001b[0m\u001b[1;33m\u001b[0m\u001b[0m\n\u001b[1;32m----> 2\u001b[1;33m \u001b[0mbanner3\u001b[0m\u001b[1;33m.\u001b[0m\u001b[0maddCrew\u001b[0m\u001b[1;33m(\u001b[0m\u001b[0mmisaki\u001b[0m\u001b[1;33m,\u001b[0m \u001b[0mchang\u001b[0m\u001b[1;33m)\u001b[0m\u001b[1;33m\u001b[0m\u001b[0m\n\u001b[0m",
      "\u001b[1;32m<ipython-input-47-75d8dd495648>\u001b[0m in \u001b[0;36maddCrew\u001b[1;34m(self, *args)\u001b[0m\n\u001b[0;32m      6\u001b[0m     \u001b[1;32mdef\u001b[0m \u001b[0maddCrew\u001b[0m\u001b[1;33m(\u001b[0m\u001b[0mself\u001b[0m\u001b[1;33m,\u001b[0m \u001b[1;33m*\u001b[0m\u001b[0margs\u001b[0m\u001b[1;33m)\u001b[0m\u001b[1;33m:\u001b[0m\u001b[1;33m\u001b[0m\u001b[0m\n\u001b[0;32m      7\u001b[0m         \u001b[1;32mfor\u001b[0m \u001b[0marg\u001b[0m \u001b[1;32min\u001b[0m \u001b[0margs\u001b[0m\u001b[1;33m:\u001b[0m\u001b[1;33m\u001b[0m\u001b[0m\n\u001b[1;32m----> 8\u001b[1;33m             \u001b[0marg\u001b[0m\u001b[1;33m[\u001b[0m\u001b[0marg\u001b[0m\u001b[1;33m.\u001b[0m\u001b[0mgetCallsign\u001b[0m\u001b[1;33m(\u001b[0m\u001b[1;33m)\u001b[0m\u001b[1;33m]\u001b[0m \u001b[1;33m=\u001b[0m \u001b[0marg\u001b[0m\u001b[1;33m\u001b[0m\u001b[0m\n\u001b[0m\u001b[0;32m      9\u001b[0m         \u001b[1;32mreturn\u001b[0m \u001b[0mcrew\u001b[0m\u001b[1;33m\u001b[0m\u001b[0m\n\u001b[0;32m     10\u001b[0m \u001b[1;33m\u001b[0m\u001b[0m\n",
      "\u001b[1;31mTypeError\u001b[0m: 'Pilot' object does not support item assignment"
     ]
    }
   ],
   "source": [
    "banner3 = AirCrew()\n",
    "banner3.addCrew(misaki, chang)"
   ]
  }
 ],
 "metadata": {
  "kernelspec": {
   "display_name": "Python 3",
   "language": "python",
   "name": "python3"
  },
  "language_info": {
   "codemirror_mode": {
    "name": "ipython",
    "version": 3
   },
   "file_extension": ".py",
   "mimetype": "text/x-python",
   "name": "python",
   "nbconvert_exporter": "python",
   "pygments_lexer": "ipython3",
   "version": "3.6.4"
  }
 },
 "nbformat": 4,
 "nbformat_minor": 2
}
