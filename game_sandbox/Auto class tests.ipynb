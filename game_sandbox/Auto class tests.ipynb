{
 "cells": [
  {
   "cell_type": "code",
   "execution_count": 44,
   "metadata": {},
   "outputs": [],
   "source": [
    "pnouns_m = {\n",
    "    'e'    : 'he',\n",
    "    'mr'   : 'him',\n",
    "    'p'    : 'his'\n",
    "}\n",
    "\n",
    "pnouns_c = {\n",
    "    'e'    : 'the car',\n",
    "    'mr'   : 'the car',\n",
    "    'p'    : 'the car'\n",
    "}\n",
    "\n",
    "actions = {\n",
    "    'inspect': ['runs a scan on', 'inspects', 'tests', 'analyzes'],\n",
    "    'repair' : ['fixes', 'replaces', 'repairs', 'works on'],\n",
    "    'modify' : ['tweaks', 'tunes'],\n",
    "}"
   ]
  },
  {
   "cell_type": "code",
   "execution_count": 45,
   "metadata": {},
   "outputs": [],
   "source": [
    "class Car(object):\n",
    "    \n",
    "    def __init__(self, pnouns):\n",
    "        self.tires = ['driver front', 'passenger front', 'driver rear', 'passenger rear']\n",
    "        self.engine = {'intake'           : 'stock',\n",
    "                       'exhaust'          : 'stock',\n",
    "                       'forced induction' : 'stock, NA',\n",
    "                       'ECU'              : 'stock'\n",
    "                      }\n",
    "        self.trunk = 'trunk'\n",
    "        self.brakes = 'brakes'\n",
    "        self.seats = 'seats'\n",
    "        self.fuel_system = 'fuel system'\n",
    "        self.electrics = 'electrics'\n",
    "        self.pnouns = pnouns\n",
    "    \n",
    "class Mechanic(object):\n",
    "    \n",
    "    def __init__(self, name, actions, pnouns):\n",
    "        self.last_name = name\n",
    "        self.actions = actions\n",
    "        self.pnouns = pnouns\n",
    "      \n",
    "    def getName(self):\n",
    "        return self.first_name\n",
    "      \n",
    "    def getActions(self):\n",
    "        return self.actions\n",
    "    \n",
    "class shopSession(object):\n",
    "    \n",
    "    def __init__ (self, mechanic, car):\n",
    "        appt = {}\n",
    "        appt['mechanic'] = mechanic\n",
    "        appt['car'] = car\n",
    "        \n",
    "    def actionGenerator(self):\n",
    "        self.mechanic.name = name\n",
    "        se = mechanic.pnouns['e']\n",
    "        smr = mechanic.pnouns['mr']\n",
    "        scp = mechanic.pnouns['p']\n",
    "        \n",
    "        oe = car.pnouns['e']\n",
    "        omr = car.pnouns['mr']\n",
    "        ocp = car.pnouns['p']\n",
    "        \n",
    "        "
   ]
  },
  {
   "cell_type": "code",
   "execution_count": 43,
   "metadata": {},
   "outputs": [],
   "source": [
    "mr_regular = Mechanic('Mr. Regular', actions, pnouns_m)\n",
    "honda = Car(pnouns_c)\n",
    "session = shopSession(mr_regular, honda)"
   ]
  },
  {
   "cell_type": "code",
   "execution_count": null,
   "metadata": {},
   "outputs": [],
   "source": []
  }
 ],
 "metadata": {
  "kernelspec": {
   "display_name": "Python 3",
   "language": "python",
   "name": "python3"
  },
  "language_info": {
   "codemirror_mode": {
    "name": "ipython",
    "version": 3
   },
   "file_extension": ".py",
   "mimetype": "text/x-python",
   "name": "python",
   "nbconvert_exporter": "python",
   "pygments_lexer": "ipython3",
   "version": "3.6.4"
  }
 },
 "nbformat": 4,
 "nbformat_minor": 2
}
