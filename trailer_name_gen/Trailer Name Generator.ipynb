{
 "cells": [
  {
   "cell_type": "code",
   "execution_count": 9,
   "metadata": {
    "collapsed": false,
    "deletable": true,
    "editable": true
   },
   "outputs": [
    {
     "name": "stdout",
     "output_type": "stream",
     "text": [
      "The Filly in Tow\n",
      "Evergreen\n",
      "YellowRose Traveler\n",
      "Wild Blue Yonder\n",
      "Beach Flea Bungalow\n",
      "Alberta Berta\n",
      "The Diva's Den\n",
      "Wrango\n",
      "Dots Pull T@B\n",
      "I Love Lucy\n",
      "Gypsy Wind\n",
      "Flossy Rose\n",
      "Key Per Kamper\n",
      "She Who Has No Name\n",
      "Miss Doolittle\n",
      "Wanderment II\n",
      "Miss Grace\n",
      "Miss Belle\n",
      "The Dreamsicle, still working on her proper name!\n",
      "Colorado Gal\n",
      "Little Red\n"
     ]
    }
   ],
   "source": [
    "from trailer_names import names\n",
    "import random\n",
    "\n",
    "selected_names = []\n",
    "\n",
    "def run(): \n",
    "    for number in range(21):\n",
    "        # Names should be unique\n",
    "        random.shuffle(names)\n",
    "        selected_names.append(names[0])\n",
    "    for name in selected_names:\n",
    "        print name\n",
    "run()"
   ]
  }
 ],
 "metadata": {
  "kernelspec": {
   "display_name": "Python 2",
   "language": "python",
   "name": "python2"
  },
  "language_info": {
   "codemirror_mode": {
    "name": "ipython",
    "version": 2
   },
   "file_extension": ".py",
   "mimetype": "text/x-python",
   "name": "python",
   "nbconvert_exporter": "python",
   "pygments_lexer": "ipython2",
   "version": "2.7.13"
  }
 },
 "nbformat": 4,
 "nbformat_minor": 2
}
